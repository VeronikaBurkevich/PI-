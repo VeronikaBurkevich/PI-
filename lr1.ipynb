{
 "cells": [
  {
   "cell_type": "code",
   "execution_count": 4,
   "metadata": {},
   "outputs": [],
   "source": [
    "from __future__ import annotations # lol\n",
    "import typing # omegalol\n",
    "from collections import namedtuple\n",
    "\n",
    "class Node:\n",
    "    def __init__(\n",
    "        self, \n",
    "        value: typing.Any,\n",
    "        prev: typing.Optional[Node]=None, \n",
    "        next: typing.Optional[Node]=None\n",
    "    ) -> None:\n",
    "        self.value = value\n",
    "        self.prev = prev\n",
    "        self.next = next\n",
    "\n",
    "    def remove(self) -> None:\n",
    "        if self.prev:\n",
    "            self.prev.next = self.next\n",
    "\n",
    "        if self.next:\n",
    "            self.next.prev = self.prev\n",
    "\n",
    "        self.next = self.prev = None\n",
    "\n",
    "    @staticmethod\n",
    "    def connect(prev: Node, next: Node):\n",
    "        next.prev = prev\n",
    "        prev.next = next\n",
    "        \n",
    "\n",
    "class Deque:\n",
    "    def __init__(self) -> None:\n",
    "        self.head: typing.Optional[Node] = None\n",
    "        self.tail: typing.Optional[Node] = None\n",
    "        self.count: int = 0\n",
    "        self._iter: typing.Optional[Node] = None\n",
    "    \n",
    "    def __iter__(self) -> Deque:\n",
    "        self._iter = self.head\n",
    "        return self\n",
    "\n",
    "    def __next__(self) -> Node:\n",
    "        if not self._iter:\n",
    "            raise StopIteration\n",
    "\n",
    "        next: Node = self._iter\n",
    "\n",
    "        self._iter = self._iter.next\n",
    "        \n",
    "        return next\n",
    "\n",
    "    def push_back(self, value: typing.Any) -> Node:\n",
    "        self.count += 1\n",
    "        new_node: Node = Node(value)\n",
    "\n",
    "        if self.tail:\n",
    "            Node.connect(self.tail, new_node)\n",
    "        \n",
    "        self.tail = new_node\n",
    "\n",
    "        if not self.head:\n",
    "            self.head = new_node\n",
    "\n",
    "        return new_node\n",
    "\n",
    "    def push_front(self, value: typing.Any) -> Node:\n",
    "        self.count += 1\n",
    "        new_node: Node = Node(value)\n",
    "\n",
    "        if self.head:\n",
    "            Node.connect(new_node, self.head)\n",
    "        \n",
    "        self.head = new_node\n",
    "\n",
    "        if not self.tail:\n",
    "            self.tail = new_node\n",
    "\n",
    "        return new_node\n",
    "\n",
    "    def pop_front(self) -> Node:\n",
    "        assert self.head, \"don't pop from empty deque\"\n",
    "        self.count -= 1\n",
    "\n",
    "        head: Node = self.head\n",
    "\n",
    "        self.head = self.head.next\n",
    "\n",
    "        head.remove()\n",
    "\n",
    "        if not self.head:\n",
    "            self.tail = None\n",
    "\n",
    "        return head\n",
    "\n",
    "    def pop_back(self) -> Node:\n",
    "        assert self.tail, \"don't pop from empty deque\"\n",
    "        self.count -= 1\n",
    "\n",
    "        tail: Node = self.tail\n",
    "\n",
    "        self.tail = self.tail.prev\n",
    "\n",
    "        tail.remove()\n",
    "\n",
    "        if not self.tail:\n",
    "            self.head = None\n",
    "\n",
    "        return tail\n",
    "\n",
    "    def remove(self, node: Node) -> None:\n",
    "        \"\"\"\n",
    "            It is assumed 'node' is contained in deque\n",
    "        \"\"\"\n",
    "        if self.head is node:\n",
    "            self.pop_front()\n",
    "        elif self.tail is node:\n",
    "            self.pop_back()\n",
    "        else:\n",
    "            self.count -= 1\n",
    "            node.remove()\n",
    "\n",
    "\n",
    "KeyValuePair = namedtuple('KeyValuePair', ['key', 'value'])\n",
    "\n",
    "\n",
    "class LRUCache:\n",
    "    def __init__(self, capacity: int) -> None:\n",
    "        self.capacity = capacity\n",
    "        self._cache = {}\n",
    "        self._deque = Deque()\n",
    "\n",
    "    def get(self, key: str) -> typing.Optional[str]:\n",
    "        cached: typing.Optional[Node] = self._cache.get(key)\n",
    "        \n",
    "        if cached:\n",
    "            self.remove(key)\n",
    "            self.set(key, cached.value.value)\n",
    "            return cached.value.value\n",
    "\n",
    "        return None\n",
    "\n",
    "    def set(self, key: str, value: str) -> None:\n",
    "        if key in self._cache:\n",
    "            self.remove(key)\n",
    "\n",
    "        prepended: Node = self._deque.push_front(KeyValuePair(key, value))\n",
    "\n",
    "        self._cache[key] = prepended\n",
    "\n",
    "        if self._deque.count > self.capacity:\n",
    "            node: Node = self._deque.pop_back()\n",
    "            self.remove(node.value.key)\n",
    "\n",
    "\n",
    "    def remove(self, key: str) -> None:\n",
    "        cached: typing.Optional[Node] = self._cache.get(key)\n",
    "        \n",
    "        assert cached, \"no value for key='{}'\".format(key)\n",
    "\n",
    "        self._deque.remove(cached)\n",
    "\n",
    "        self._cache.pop(key)"
   ]
  },
  {
   "cell_type": "code",
   "execution_count": 5,
   "metadata": {},
   "outputs": [],
   "source": [
    "cache = LRUCache(10)"
   ]
  },
  {
   "cell_type": "code",
   "execution_count": 6,
   "metadata": {},
   "outputs": [],
   "source": [
    "cache.set('j', 'p')"
   ]
  },
  {
   "cell_type": "code",
   "execution_count": 7,
   "metadata": {},
   "outputs": [],
   "source": [
    "cache.set('w', 'w')"
   ]
  },
  {
   "cell_type": "code",
   "execution_count": 8,
   "metadata": {},
   "outputs": [],
   "source": [
    "cache.set('j', 'j')"
   ]
  },
  {
   "cell_type": "code",
   "execution_count": 9,
   "metadata": {},
   "outputs": [
    {
     "data": {
      "text/plain": [
       "'j'"
      ]
     },
     "execution_count": 9,
     "metadata": {},
     "output_type": "execute_result"
    }
   ],
   "source": [
    "cache.get('j')"
   ]
  },
  {
   "cell_type": "code",
   "execution_count": 10,
   "metadata": {},
   "outputs": [
    {
     "data": {
      "text/plain": [
       "'w'"
      ]
     },
     "execution_count": 10,
     "metadata": {},
     "output_type": "execute_result"
    }
   ],
   "source": [
    "cache.get('w')"
   ]
  },
  {
   "cell_type": "code",
   "execution_count": 11,
   "metadata": {},
   "outputs": [],
   "source": [
    "cache.remove('j')"
   ]
  },
  {
   "cell_type": "code",
   "execution_count": 13,
   "metadata": {},
   "outputs": [],
   "source": [
    "cache.get('j')"
   ]
  },
  {
   "cell_type": "code",
   "execution_count": null,
   "metadata": {},
   "outputs": [],
   "source": []
  }
 ],
 "metadata": {
  "kernelspec": {
   "display_name": "Python 3",
   "language": "python",
   "name": "python3"
  },
  "language_info": {
   "codemirror_mode": {
    "name": "ipython",
    "version": 3
   },
   "file_extension": ".py",
   "mimetype": "text/x-python",
   "name": "python",
   "nbconvert_exporter": "python",
   "pygments_lexer": "ipython3",
   "version": "3.7.3"
  }
 },
 "nbformat": 4,
 "nbformat_minor": 2
}
